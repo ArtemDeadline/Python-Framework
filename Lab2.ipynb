{
 "cells": [
  {
   "cell_type": "code",
   "execution_count": 1,
   "metadata": {},
   "outputs": [
    {
     "name": "stdout",
     "output_type": "stream",
     "text": [
      "5\n",
      "[[1 0 0 0 0]\n",
      " [0 2 0 0 0]\n",
      " [0 0 3 0 0]\n",
      " [0 0 0 4 0]\n",
      " [0 0 0 0 5]]\n"
     ]
    }
   ],
   "source": [
    "import numpy as np\n",
    "n = int(input())\n",
    "diagonal = np.arange(1, n+1)\n",
    "print(np.diag(diagonal))"
   ]
  },
  {
   "cell_type": "code",
   "execution_count": 4,
   "metadata": {},
   "outputs": [
    {
     "name": "stdout",
     "output_type": "stream",
     "text": [
      "5\n",
      "[[1 1 1 1 1]\n",
      " [0 0 0 0 0]\n",
      " [1 1 1 1 1]\n",
      " [0 0 0 0 0]\n",
      " [1 1 1 1 1]]\n"
     ]
    }
   ],
   "source": [
    "import numpy as np\n",
    "n=int(input())\n",
    "ar = np.ones((n,n), dtype=int)\n",
    "ar[1::2]=0\n",
    "print(ar)"
   ]
  },
  {
   "cell_type": "code",
   "execution_count": 6,
   "metadata": {},
   "outputs": [
    {
     "name": "stdout",
     "output_type": "stream",
     "text": [
      "5\n",
      "[5 4 3 2 1 0]\n"
     ]
    }
   ],
   "source": [
    "import numpy as np\n",
    "n=int(input())\n",
    "print(np.arange(n, -1, -1))"
   ]
  },
  {
   "cell_type": "code",
   "execution_count": 10,
   "metadata": {},
   "outputs": [
    {
     "name": "stdout",
     "output_type": "stream",
     "text": [
      "5 6\n",
      "[[0.70333284 0.53009954 0.28462693 0.7756117  0.62156128 0.34414323]\n",
      " [0.70729616 0.51289215 0.98958062 0.79559331 0.46931753 0.41916432]\n",
      " [0.54017305 0.0925591  0.86328277 0.13554504 0.2024658  0.22889051]\n",
      " [0.56541724 0.63920855 0.37159003 0.98716783 0.84294559 0.57878448]\n",
      " [0.67868076 0.91689839 0.861273   0.57820817 0.79715819 0.81191992]]\n",
      "мінімум: 0.093\n",
      "максимум: 0.99\n",
      "середнє: 0.595\n",
      "дисперсія: 0.247\n"
     ]
    }
   ],
   "source": [
    "import numpy as np\n",
    "n, m = (int(i) for i in input().split(\" \"))\n",
    "array = np.random.random((n, m))\n",
    "print(array)\n",
    "print(\"мінімум: {}\".format(round(np.amin(array), 3)))\n",
    "print(\"максимум: {}\".format(round(np.amax(array), 3)))\n",
    "print(\"середнє: {}\".format(round(np.mean(array), 3)))\n",
    "print(\"дисперсія: {}\".format(round(np.std(array), 3)))"
   ]
  },
  {
   "cell_type": "code",
   "execution_count": 40,
   "metadata": {},
   "outputs": [
    {
     "name": "stdout",
     "output_type": "stream",
     "text": [
      "8\n",
      "[[0 0 0 0 0 0 0 0]\n",
      " [0 1 1 1 1 1 1 0]\n",
      " [0 1 1 1 1 1 1 0]\n",
      " [0 1 1 1 1 1 1 0]\n",
      " [0 1 1 1 1 1 1 0]\n",
      " [0 1 1 1 1 1 1 0]\n",
      " [0 1 1 1 1 1 1 0]\n",
      " [0 0 0 0 0 0 0 0]]\n"
     ]
    }
   ],
   "source": [
    "import numpy as np\n",
    "n=int(input())\n",
    "ar = np.ones((n,n), dtype=int)\n",
    "ar[0::n-1]=0\n",
    "ar[::, 0::n-1]=0\n",
    "print(ar)"
   ]
  },
  {
   "cell_type": "code",
   "execution_count": 44,
   "metadata": {},
   "outputs": [
    {
     "name": "stdout",
     "output_type": "stream",
     "text": [
      "[[0 1 0 1 0 1 0 1]\n",
      " [1 0 1 0 1 0 1 0]\n",
      " [0 1 0 1 0 1 0 1]\n",
      " [1 0 1 0 1 0 1 0]\n",
      " [0 1 0 1 0 1 0 1]\n",
      " [1 0 1 0 1 0 1 0]\n",
      " [0 1 0 1 0 1 0 1]\n",
      " [1 0 1 0 1 0 1 0]]\n"
     ]
    }
   ],
   "source": [
    "import numpy as np\n",
    "ar3 = np.tile([[0, 1], [1, 0]], (4,4))\n",
    "print(ar3)"
   ]
  },
  {
   "cell_type": "code",
   "execution_count": 46,
   "metadata": {},
   "outputs": [
    {
     "name": "stdout",
     "output_type": "stream",
     "text": [
      "6\n",
      "[[0 1 0 1 0 1]\n",
      " [0 1 0 1 0 1]\n",
      " [0 1 0 1 0 1]\n",
      " [0 1 0 1 0 1]\n",
      " [0 1 0 1 0 1]\n",
      " [0 1 0 1 0 1]]\n"
     ]
    }
   ],
   "source": [
    "import numpy as np\n",
    "n=int(input())\n",
    "ar = np.ones((n,n), dtype=int)\n",
    "ar[::, 0::2]=0\n",
    "print(ar)"
   ]
  },
  {
   "cell_type": "code",
   "execution_count": 53,
   "metadata": {},
   "outputs": [
    {
     "name": "stdout",
     "output_type": "stream",
     "text": [
      "7\n",
      "Початковий вектор: [0.41, 0.906, 0.91, 0.979, 0.713, 0.212, 0.575]\n",
      "Змінений вектор: [0.41  0.906 0.91  0.    0.713 0.212 0.575]\n"
     ]
    }
   ],
   "source": [
    "import numpy as np\n",
    "n = int(input())\n",
    "array = [round(i, 3) for i in np.random.random(n)]\n",
    "print(\"Початковий вектор: {}\".format(array))\n",
    "print(\"Змінений вектор: {}\".format(np.where(array==np.amax(array), 0, array)))"
   ]
  },
  {
   "cell_type": "code",
   "execution_count": 2,
   "metadata": {},
   "outputs": [
    {
     "name": "stdout",
     "output_type": "stream",
     "text": [
      "5 10\n",
      "Початковий масив\n",
      "[[4 0 5 6 9]\n",
      " [2 9 6 4 1]\n",
      " [0 7 0 6 2]\n",
      " [4 2 3 1 7]\n",
      " [5 6 7 6 3]]\n",
      "Змінений масив\n",
      "[[ 4  0  5  6 -9]\n",
      " [ 2 -9  6  4  1]\n",
      " [ 0  7  0  6  2]\n",
      " [ 4  2  3  1  7]\n",
      " [ 5  6  7  6  3]]\n"
     ]
    }
   ],
   "source": [
    "import numpy as np\n",
    "n, m = [int(i) for i in input().split(\" \")]\n",
    "array = np.random.randint(0, m, (n, n))\n",
    "print(\"Початковий масив\")\n",
    "print(array)\n",
    "print(\"Змінений масив\")\n",
    "print(np.where(array == np.amax(array), -array,array))"
   ]
  },
  {
   "cell_type": "code",
   "execution_count": null,
   "metadata": {},
   "outputs": [],
   "source": []
  },
  {
   "cell_type": "code",
   "execution_count": 78,
   "metadata": {},
   "outputs": [
    {
     "name": "stdout",
     "output_type": "stream",
     "text": [
      "[[ 2 -1  1 -1  1]\n",
      " [ 2 -1  0 -3  2]\n",
      " [ 3  0 -1  1 -3]\n",
      " [ 2  2 -2  5 -6]]\n",
      "[[ 2 -1  1 -1]\n",
      " [ 2 -1  0 -3]\n",
      " [ 3  0 -1  1]\n",
      " [ 2  2 -2  5]]\n",
      "[[ 1 -1  1 -1]\n",
      " [ 2 -1  0 -3]\n",
      " [-3  0 -1  1]\n",
      " [-6  2 -2  5]]\n",
      "[[ 2  1  1 -1]\n",
      " [ 2  2  0 -3]\n",
      " [ 3 -3 -1  1]\n",
      " [ 2 -6 -2  5]]\n",
      "[[ 2 -1  1 -1]\n",
      " [ 2 -1  2 -3]\n",
      " [ 3  0 -3  1]\n",
      " [ 2  2 -6  5]]\n",
      "[[ 2 -1  1  1]\n",
      " [ 2 -1  0  2]\n",
      " [ 3  0 -1 -3]\n",
      " [ 2  2 -2 -6]]\n",
      "x1 = -1.4802973661668788e-16\n",
      "x2 = 2.0\n",
      "x3 = 1.666666666666667\n",
      "x4 = -1.333333333333333\n",
      "\n",
      "Перевірка за допомогою матричного множення: \n",
      "[ 1.  2. -3. -6.]\n",
      "Перевірка за допомогою функції numpy.lanalg.solve(): \n",
      "[ 7.40148683e-17  2.00000000e+00  1.66666667e+00 -1.33333333e+00]\n",
      "[ 1.  2. -3. -6.]\n"
     ]
    }
   ],
   "source": [
    "import numpy as np\n",
    "system = np.array([[2, -1, 1, -1, 1],[2, -1, 0, -3, 2],[3, 0, -1, 1, -3],[2, 2, -2, 5, -6]])\n",
    "a1, a2, a3, a4, b= np.hsplit(system, [1,2,3,4])\n",
    "\n",
    "delta = np.concatenate([a1, a2, a3, a4], axis = 1)\n",
    "delta1 = np.concatenate([b, a2, a3, a4], axis = 1)\n",
    "delta2 = np.concatenate([a1, b, a3, a4], axis = 1)\n",
    "delta3 = np.concatenate([a1, a2, b, a4], axis = 1)\n",
    "delta4 = np.concatenate([a1, a2, a3, b], axis = 1)\n",
    "print(system)\n",
    "print(delta)\n",
    "print(delta1)\n",
    "print(delta2)\n",
    "print(delta3)\n",
    "print(delta4)\n",
    "\n",
    "x1 = np.linalg.det(delta1) / np.linalg.det(delta)\n",
    "x2 = np.linalg.det(delta2) / np.linalg.det(delta)\n",
    "x3 = np.linalg.det(delta3) / np.linalg.det(delta)\n",
    "x4 = np.linalg.det(delta4) / np.linalg.det(delta)\n",
    "\n",
    "print(\"x1 = {}\\nx2 = {}\\nx3 = {}\\nx4 = {}\\n\".format(x1, x2, x3, x4))\n",
    "print(\"Перевірка за допомогою матричного множення: \")\n",
    "print(system[::, :4:].dot([x1, x2, x3, x4]))\n",
    "\n",
    "print(\"Перевірка за допомогою функції numpy.lanalg.solve(): \")\n",
    "print(np.linalg.solve(system[::, :4:], system[::, 4]))\n",
    "print(system[::, :4:].dot(np.linalg.solve(system[::, :4:], system[::, 4])))"
   ]
  },
  {
   "cell_type": "code",
   "execution_count": 64,
   "metadata": {},
   "outputs": [
    {
     "name": "stdout",
     "output_type": "stream",
     "text": [
      "[[ 1  0  3]\n",
      " [-2  0  1]\n",
      " [-1  3  1]]\n",
      "\n",
      "[[ 7  5  2]\n",
      " [ 0  1  2]\n",
      " [-3 -1 -1]]\n",
      "\n",
      "(2A-B)(3A+B)-2AB\n",
      "\n",
      "\n",
      "2A-B\n",
      "\n",
      "[[ 2  0  6]\n",
      " [-4  0  2]\n",
      " [-2  6  2]]\n",
      " - \n",
      "[[ 7  5  2]\n",
      " [ 0  1  2]\n",
      " [-3 -1 -1]]\n",
      " = \n",
      "[[-5 -5  4]\n",
      " [-4 -1  0]\n",
      " [ 1  7  3]]\n",
      "\n",
      "3A+B\n",
      "\n",
      "[[ 3  0  9]\n",
      " [-6  0  3]\n",
      " [-3  9  3]]\n",
      " + \n",
      "[[ 7  5  2]\n",
      " [ 0  1  2]\n",
      " [-3 -1 -1]]\n",
      " = \n",
      "[[10  5 11]\n",
      " [-6  1  5]\n",
      " [-6  8  2]]\n",
      "\n",
      "(2A-B)(3A+B)\n",
      "\n",
      "[[-5 -5  4]\n",
      " [-4 -1  0]\n",
      " [ 1  7  3]]\n",
      "*\n",
      "[[10  5 11]\n",
      " [-6  1  5]\n",
      " [-6  8  2]]\n",
      "=\n",
      "[[-44   2 -72]\n",
      " [-34 -21 -49]\n",
      " [-50  36  52]]\n",
      "\n",
      "(2A-B)(3A+B)-2AB\n",
      "\n",
      "[[-50 -25  44]\n",
      " [ 24  -1   0]\n",
      " [ -6  56   6]]\n",
      "-\n",
      "[[14  0 12]\n",
      " [ 0  0  4]\n",
      " [ 6 -6 -2]]\n",
      "=\n",
      "[[-40  -2 -70]\n",
      " [  0   1 -39]\n",
      " [-30  42  46]]\n"
     ]
    }
   ],
   "source": [
    "import numpy as np\n",
    "A = np.array([[1,0,3], [-2,0,1], [-1,3,1]])\n",
    "B = np.array([[7,5,2], [0,1,2], [-3,-1,-1]])\n",
    "\n",
    "print(A)\n",
    "print()\n",
    "print(B)\n",
    "print()\n",
    "print(\"(2A-B)(3A+B)-2AB\\n\")\n",
    "\n",
    "print(\"\\n2A-B\\n\")\n",
    "print(2*A, end=\"\\n - \\n\")\n",
    "print(B, end = \"\\n = \\n\")\n",
    "print(2*A - B)\n",
    "\n",
    "print(\"\\n3A+B\\n\")\n",
    "print(3*A, end=\"\\n + \\n\")\n",
    "print(B, end = \"\\n = \\n\")\n",
    "print(3*A + B)\n",
    "\n",
    "print(\"\\n(2A-B)(3A+B)\\n\")\n",
    "print(2*A - B, end=\"\\n*\\n\")\n",
    "print(3*A + B, end=\"\\n=\\n\")\n",
    "print((2*A - B).dot((3*A + B)))\n",
    "\n",
    "print(\"\\n(2A-B)(3A+B)-2AB\\n\")\n",
    "print((2*A - B)*(3*A + B), end = \"\\n-\\n\")\n",
    "print(2*A*B, end = \"\\n=\\n\")\n",
    "print((2*A - B).dot((3*A + B)) - 2*A.dot(B))"
   ]
  },
  {
   "cell_type": "code",
   "execution_count": 77,
   "metadata": {},
   "outputs": [
    {
     "name": "stdout",
     "output_type": "stream",
     "text": [
      "Матриця А\n",
      "[[ 5 -1  3]\n",
      " [ 0  2 -1]\n",
      " [-2 -1  0]]\n",
      "Матриця В\n",
      "[[ 3  7 -2]\n",
      " [ 1  1 -2]\n",
      " [ 0  1  3]]\n",
      "Рішення:\n",
      "inv(A) * B = \n",
      "[[ 6.0000000e-01  3.8000000e+00 -8.8817842e-16]\n",
      " [-1.4000000e+00 -2.2000000e+00 -4.0000000e+00]\n",
      " [ 2.8000000e+00  5.4000000e+00  7.0000000e+00]]\n",
      "Перевірка за допомогою матричного множення: \n",
      "[[ 3.00000000e+00  7.00000000e+00 -2.00000000e+00]\n",
      " [ 1.00000000e+00  1.00000000e+00 -2.00000000e+00]\n",
      " [ 1.77635684e-15  1.00000000e+00  3.00000000e+00]]\n",
      "Перевірка за допомогою функції numpy.linalg.solve(): \n",
      "[[ 5.00000000e+00 -1.00000000e+00  3.00000000e+00]\n",
      " [-5.04101265e-16  2.00000000e+00 -1.00000000e+00]\n",
      " [-2.00000000e+00 -1.00000000e+00  1.54043445e-15]]\n"
     ]
    }
   ],
   "source": [
    "import numpy as np\n",
    "A = np.array([[5,-1, 3],[0,2,-1],[-2,-1,0]])\n",
    "B = np.array([[3,7,-2],[1,1,-2],[0,1,3]])\n",
    "\n",
    "print(\"Матриця А\")\n",
    "print(A)\n",
    "print(\"Матриця В\")\n",
    "print(B)\n",
    "print(\"Рішення:\")\n",
    "print(\"inv(A) * B = \")\n",
    "result = B.dot(np.linalg.inv(A))\n",
    "print(result)\n",
    "print(\"Перевірка за допомогою матричного множення: \")\n",
    "print(result.dot(A))\n",
    "print(\"Перевірка за допомогою функції numpy.linalg.solve(): \")\n",
    "print(np.linalg.solve(result, B))"
   ]
  },
  {
   "cell_type": "code",
   "execution_count": null,
   "metadata": {},
   "outputs": [],
   "source": []
  }
 ],
 "metadata": {
  "kernelspec": {
   "display_name": "Python 3",
   "language": "python",
   "name": "python3"
  },
  "language_info": {
   "codemirror_mode": {
    "name": "ipython",
    "version": 3
   },
   "file_extension": ".py",
   "mimetype": "text/x-python",
   "name": "python",
   "nbconvert_exporter": "python",
   "pygments_lexer": "ipython3",
   "version": "3.7.4"
  }
 },
 "nbformat": 4,
 "nbformat_minor": 2
}
